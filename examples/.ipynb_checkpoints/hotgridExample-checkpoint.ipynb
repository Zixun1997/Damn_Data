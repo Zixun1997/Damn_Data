{
 "cells": [
  {
   "cell_type": "markdown",
   "metadata": {},
   "source": [
    "### example 1"
   ]
  },
  {
   "cell_type": "code",
   "execution_count": 1,
   "metadata": {},
   "outputs": [
    {
     "data": {
      "text/html": [
       "<div>\n",
       "<style scoped>\n",
       "    .dataframe tbody tr th:only-of-type {\n",
       "        vertical-align: middle;\n",
       "    }\n",
       "\n",
       "    .dataframe tbody tr th {\n",
       "        vertical-align: top;\n",
       "    }\n",
       "\n",
       "    .dataframe thead th {\n",
       "        text-align: right;\n",
       "    }\n",
       "</style>\n",
       "<table border=\"1\" class=\"dataframe\">\n",
       "  <thead>\n",
       "    <tr style=\"text-align: right;\">\n",
       "      <th></th>\n",
       "      <th>id</th>\n",
       "      <th>wgslng</th>\n",
       "      <th>wgslat</th>\n",
       "      <th>typei</th>\n",
       "    </tr>\n",
       "  </thead>\n",
       "  <tbody>\n",
       "    <tr>\n",
       "      <th>30883</th>\n",
       "      <td>B0FFKVGBUH</td>\n",
       "      <td>104.120454</td>\n",
       "      <td>30.722093</td>\n",
       "      <td>15</td>\n",
       "    </tr>\n",
       "  </tbody>\n",
       "</table>\n",
       "</div>"
      ],
      "text/plain": [
       "               id      wgslng     wgslat  typei\n",
       "30883  B0FFKVGBUH  104.120454  30.722093     15"
      ]
     },
     "execution_count": 1,
     "metadata": {},
     "output_type": "execute_result"
    }
   ],
   "source": [
    "import pandas as pd\n",
    "chengdu_poi = pd.read_csv('chengdu_poi.csv').drop(columns='Unnamed: 0')\n",
    "chengdu_poi.tail(1)"
   ]
  },
  {
   "cell_type": "code",
   "execution_count": null,
   "metadata": {},
   "outputs": [],
   "source": [
    "from damndata.damn_geoBee.hotgrid import HotGridGenerator\n",
    "hg = HotGridGenerator(gridUnit = 200,searchRadius = 1000)\n",
    "hg.grid_setting(chengdu_poi,'wgslat','wgslng')\n",
    "chengdu_poi_hotMap=hg.gridCounting_basic(chengdu_poi,'wgslat','wgslng')"
   ]
  },
  {
   "cell_type": "code",
   "execution_count": null,
   "metadata": {},
   "outputs": [],
   "source": [
    "import seaborn as sns\n",
    "from IPython.core.pylabtools import figsize\n",
    "figsize(21,16)\n",
    "sns.heatmap(chengdu_poi_hotMap.sort_index(axis=0,ascending=False))"
   ]
  },
  {
   "cell_type": "markdown",
   "metadata": {},
   "source": [
    "### example 2"
   ]
  },
  {
   "cell_type": "code",
   "execution_count": null,
   "metadata": {},
   "outputs": [],
   "source": [
    "hg = HotGridGenerator(gridUnit = 1000,searchRadius = 1000)\n",
    "hg.grid_setting(chengdu_poi,'wgslat','wgslng')\n",
    "chengdu_typeMap = hg.gridCounting_byType(chengdu_poi,'wgslat','wgslng','typei')"
   ]
  },
  {
   "cell_type": "code",
   "execution_count": null,
   "metadata": {},
   "outputs": [],
   "source": [
    "import matplotlib.pyplot as plt\n",
    "%matplotlib inline\n",
    "fig,ax = plt.subplots(4,4, figsize=(21,16))\n",
    "c=0\n",
    "for i in range(4):\n",
    "    for j in range(4):\n",
    "        sns.heatmap(chengdu_typeMap[c].sort_index(axis=0,ascending=False),ax=ax[i,j])\n",
    "        ax[i,j].set_title('poi'+str(c).zfill(2))\n",
    "        c+=1\n",
    "plt.tight_layout()"
   ]
  }
 ],
 "metadata": {
  "kernelspec": {
   "display_name": "py36ml",
   "language": "python",
   "name": "py36ml"
  },
  "language_info": {
   "codemirror_mode": {
    "name": "ipython",
    "version": 3
   },
   "file_extension": ".py",
   "mimetype": "text/x-python",
   "name": "python",
   "nbconvert_exporter": "python",
   "pygments_lexer": "ipython3",
   "version": "3.6.12"
  }
 },
 "nbformat": 4,
 "nbformat_minor": 2
}
